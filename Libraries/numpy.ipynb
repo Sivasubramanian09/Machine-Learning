{
 "cells": [
  {
   "cell_type": "code",
   "execution_count": 7,
   "id": "4b26bcbc-fb66-4d6b-96b3-514d626c6b8b",
   "metadata": {
    "scrolled": true
   },
   "outputs": [
    {
     "name": "stdout",
     "output_type": "stream",
     "text": [
      "[1 2 3 4 5]\n"
     ]
    },
    {
     "data": {
      "text/plain": [
       "numpy.ndarray"
      ]
     },
     "execution_count": 7,
     "metadata": {},
     "output_type": "execute_result"
    }
   ],
   "source": [
    "import numpy as np\n",
    "import random\n",
    "list = np.array([1,2,3,4,5])\n",
    "print(list)\n",
    "type(list)"
   ]
  },
  {
   "cell_type": "code",
   "execution_count": 8,
   "id": "bb460b23-9e91-4c43-8646-07791c8f8453",
   "metadata": {},
   "outputs": [
    {
     "data": {
      "text/plain": [
       "(5,)"
      ]
     },
     "execution_count": 8,
     "metadata": {},
     "output_type": "execute_result"
    }
   ],
   "source": [
    "list.shape"
   ]
  },
  {
   "cell_type": "code",
   "execution_count": 9,
   "id": "9f078a21-5f55-4e61-a186-0dcb73107375",
   "metadata": {},
   "outputs": [
    {
     "name": "stdout",
     "output_type": "stream",
     "text": [
      "[[1 2 4]\n",
      " [4 5 6]]\n"
     ]
    },
    {
     "data": {
      "text/plain": [
       "(2, 3)"
      ]
     },
     "execution_count": 9,
     "metadata": {},
     "output_type": "execute_result"
    }
   ],
   "source": [
    "arr = np.array([(1,2,4),(4,5,6)])\n",
    "print(arr)\n",
    "type(arr)\n",
    "arr.shape"
   ]
  },
  {
   "cell_type": "code",
   "execution_count": 17,
   "id": "2fc3a999-314d-44dd-b3e8-9cba698e2d53",
   "metadata": {},
   "outputs": [
    {
     "name": "stdout",
     "output_type": "stream",
     "text": [
      "[[5 5 5 5 5]\n",
      " [5 5 5 5 5]\n",
      " [5 5 5 5 5]\n",
      " [5 5 5 5 5]]\n"
     ]
    }
   ],
   "source": [
    "x = np.full((4,5),5)\n",
    "print(x)\n"
   ]
  },
  {
   "cell_type": "code",
   "execution_count": 23,
   "id": "2f171c96-2cb2-493b-aecd-7ae1eb347032",
   "metadata": {},
   "outputs": [
    {
     "name": "stdout",
     "output_type": "stream",
     "text": [
      "[[1. 0. 0. 0. 0.]\n",
      " [0. 1. 0. 0. 0.]\n",
      " [0. 0. 1. 0. 0.]\n",
      " [0. 0. 0. 1. 0.]\n",
      " [0. 0. 0. 0. 1.]]\n"
     ]
    }
   ],
   "source": [
    "#identity matrice\n",
    "a = np.eye((5))\n",
    "print(a)"
   ]
  },
  {
   "cell_type": "code",
   "execution_count": 22,
   "id": "6e943d83-2723-4463-89b5-eeb8ddd511da",
   "metadata": {},
   "outputs": [
    {
     "name": "stdout",
     "output_type": "stream",
     "text": [
      "[[1. 1. 1.]\n",
      " [1. 1. 1.]\n",
      " [1. 1. 1.]]\n"
     ]
    }
   ],
   "source": [
    "#matrix of ones\n",
    "z = np.ones((3,3))\n",
    "print(z)\n"
   ]
  },
  {
   "cell_type": "code",
   "execution_count": 27,
   "id": "074444f0-a7d3-4a91-bdc1-b8c6a5cfbcae",
   "metadata": {},
   "outputs": [
    {
     "name": "stdout",
     "output_type": "stream",
     "text": [
      "[[0.16180397 0.36913471 0.7190734  0.03421016 0.22860614]\n",
      " [0.95820104 0.28603954 0.09199889 0.57912752 0.97416001]\n",
      " [0.03801573 0.65326473 0.87875871 0.24942941 0.02425516]]\n"
     ]
    }
   ],
   "source": [
    "#random values of numpy array\n",
    "rand = np.random.random((3,5))\n",
    "print(rand)"
   ]
  },
  {
   "cell_type": "code",
   "execution_count": 31,
   "id": "5f5c792f-b0fb-4174-aa05-141bdeff24d6",
   "metadata": {},
   "outputs": [
    {
     "name": "stdout",
     "output_type": "stream",
     "text": [
      "[[73 16 93 75]\n",
      " [61 97 87 21]]\n"
     ]
    }
   ],
   "source": [
    "#generate random array between any range\n",
    "x= np.random.randint(10,100,(2,4))\n",
    "print(x)"
   ]
  },
  {
   "cell_type": "code",
   "execution_count": 37,
   "id": "51703356-a87e-49fa-ac70-ea22fbc67e0f",
   "metadata": {},
   "outputs": [
    {
     "name": "stdout",
     "output_type": "stream",
     "text": [
      "[10. 11. 12. 13. 14. 15. 16. 17. 18. 19. 20. 21. 22. 23. 24. 25. 26. 27.\n",
      " 28. 29. 30. 31. 32. 33. 34. 35. 36. 37. 38. 39. 40. 41. 42. 43. 44. 45.\n",
      " 46. 47. 48. 49. 50.]\n"
     ]
    }
   ],
   "source": [
    "#array od evenly spaced values\n",
    "d = np.linspace(10,50,41)\n",
    "print(d)"
   ]
  },
  {
   "cell_type": "code",
   "execution_count": 39,
   "id": "988ae622-8e53-400c-b6fb-246ff43eaf9b",
   "metadata": {},
   "outputs": [
    {
     "name": "stdout",
     "output_type": "stream",
     "text": [
      "[10 14 18 22 26]\n"
     ]
    }
   ],
   "source": [
    "a = np.arange(10,30,4)\n",
    "print(a)\n"
   ]
  },
  {
   "cell_type": "code",
   "execution_count": 48,
   "id": "f3ae9060-3f03-483e-a02a-2320415344c9",
   "metadata": {},
   "outputs": [
    {
     "name": "stdout",
     "output_type": "stream",
     "text": [
      "[10 20 30 40]\n"
     ]
    },
    {
     "data": {
      "text/plain": [
       "numpy.ndarray"
      ]
     },
     "execution_count": 48,
     "metadata": {},
     "output_type": "execute_result"
    }
   ],
   "source": [
    "#convert a list to numpy array\n",
    "list = [10,20,30,40]\n",
    "type(list)\n",
    "np_array = np.asarray(list)\n",
    "print(np_array)\n",
    "type(np_array)"
   ]
  },
  {
   "cell_type": "code",
   "execution_count": 49,
   "id": "ed8fbf11-ece9-4e0e-ba0b-09552e2361a6",
   "metadata": {},
   "outputs": [
    {
     "name": "stdout",
     "output_type": "stream",
     "text": [
      "[[49 34 17 39]\n",
      " [37 15 82 82]]\n"
     ]
    }
   ],
   "source": [
    "#analysis\n",
    "\n",
    "array = np.random.randint(10,100,(2,4))\n",
    "print(array)\n"
   ]
  },
  {
   "cell_type": "code",
   "execution_count": 50,
   "id": "7c723453-67ed-413d-b5a0-745c7d336951",
   "metadata": {},
   "outputs": [
    {
     "name": "stdout",
     "output_type": "stream",
     "text": [
      "(2, 4)\n"
     ]
    }
   ],
   "source": [
    "print(array.shape)"
   ]
  },
  {
   "cell_type": "code",
   "execution_count": 51,
   "id": "4eb9605a-923f-4602-b91b-1035c8d43753",
   "metadata": {},
   "outputs": [
    {
     "name": "stdout",
     "output_type": "stream",
     "text": [
      "2\n"
     ]
    }
   ],
   "source": [
    "print(array.ndim)"
   ]
  },
  {
   "cell_type": "code",
   "execution_count": 52,
   "id": "de38605e-746e-4a4a-bc8c-657683aca7d2",
   "metadata": {},
   "outputs": [
    {
     "name": "stdout",
     "output_type": "stream",
     "text": [
      "8\n"
     ]
    }
   ],
   "source": [
    "print(array.size)"
   ]
  },
  {
   "cell_type": "code",
   "execution_count": 53,
   "id": "a1815b97-afaf-4166-b0cb-4feb5b5aa546",
   "metadata": {},
   "outputs": [
    {
     "name": "stdout",
     "output_type": "stream",
     "text": [
      "int32\n"
     ]
    }
   ],
   "source": [
    "print(array.dtype)"
   ]
  },
  {
   "cell_type": "code",
   "execution_count": 54,
   "id": "9eeaff2e-5823-4846-a000-2ee20b51aacb",
   "metadata": {},
   "outputs": [
    {
     "name": "stdout",
     "output_type": "stream",
     "text": [
      "[2, 4, 6, 8, 5, 6, 7, 8, 9]\n"
     ]
    }
   ],
   "source": [
    "#Mathematical Operations\n",
    "\n",
    "list1 = [2,4,6,8]\n",
    "list2 = [5,6,7,8,9]\n",
    "\n",
    "print(list1+list2) \n"
   ]
  },
  {
   "cell_type": "code",
   "execution_count": 55,
   "id": "cdd6b92e-85cf-48a6-9889-1738fbc75e55",
   "metadata": {},
   "outputs": [
    {
     "name": "stdout",
     "output_type": "stream",
     "text": [
      "[[3 3 8]\n",
      " [0 3 4]\n",
      " [0 2 9]]\n",
      "[[16 12 15]\n",
      " [19 14 19]\n",
      " [15 17 13]]\n"
     ]
    }
   ],
   "source": [
    "a = np.random.randint(0,10,(3,3))\n",
    "b = np.random.randint(10,20,(3,3))\n",
    "print(a)\n",
    "print(b)"
   ]
  },
  {
   "cell_type": "code",
   "execution_count": 56,
   "id": "e07581f8-36a6-4bbb-b0d5-ded50a205f94",
   "metadata": {},
   "outputs": [
    {
     "name": "stdout",
     "output_type": "stream",
     "text": [
      "[[19 15 23]\n",
      " [19 17 23]\n",
      " [15 19 22]]\n"
     ]
    }
   ],
   "source": [
    "print(a+b)"
   ]
  },
  {
   "cell_type": "code",
   "execution_count": 61,
   "id": "97bacef2-24d2-402c-84cd-9b6e9c67020e",
   "metadata": {},
   "outputs": [
    {
     "name": "stdout",
     "output_type": "stream",
     "text": [
      "[[19 15 23]\n",
      " [19 17 23]\n",
      " [15 19 22]]\n"
     ]
    }
   ],
   "source": [
    " c = print(np.add(a,b))"
   ]
  },
  {
   "cell_type": "code",
   "execution_count": 67,
   "id": "54fe93da-e30d-4d10-a22e-67ea995bc19a",
   "metadata": {},
   "outputs": [
    {
     "name": "stdout",
     "output_type": "stream",
     "text": [
      "[[19 12 12 14]\n",
      " [17 16 11 17]\n",
      " [13 17 11 17]]\n",
      "(3, 4)\n"
     ]
    }
   ],
   "source": [
    "array = np.random.randint(10,20,(3,4))\n",
    "print(array)\n",
    "print(array.shape)"
   ]
  },
  {
   "cell_type": "code",
   "execution_count": 68,
   "id": "f3c2b858-9ef1-465a-a497-8d2df7b0bc5b",
   "metadata": {},
   "outputs": [
    {
     "name": "stdout",
     "output_type": "stream",
     "text": [
      "[[19 17 13]\n",
      " [12 16 17]\n",
      " [12 11 11]\n",
      " [14 17 17]]\n",
      "(4, 3)\n"
     ]
    }
   ],
   "source": [
    "#transpose\n",
    "\n",
    "trans = np.transpose(array)\n",
    "print(trans)\n",
    "print(trans.shape)\n"
   ]
  },
  {
   "cell_type": "code",
   "execution_count": 69,
   "id": "5e3f7cb7-17bb-4329-9746-4756381bcb87",
   "metadata": {},
   "outputs": [
    {
     "name": "stdout",
     "output_type": "stream",
     "text": [
      "[[19 17 13]\n",
      " [12 16 17]\n",
      " [12 11 11]\n",
      " [14 17 17]]\n"
     ]
    }
   ],
   "source": [
    "trans2 = array.T\n",
    "print(trans2)"
   ]
  },
  {
   "cell_type": "code",
   "execution_count": null,
   "id": "9f7b3c81-fdfe-410f-8fc8-34c157ef6e8f",
   "metadata": {},
   "outputs": [],
   "source": []
  }
 ],
 "metadata": {
  "kernelspec": {
   "display_name": "Python 3 (ipykernel)",
   "language": "python",
   "name": "python3"
  },
  "language_info": {
   "codemirror_mode": {
    "name": "ipython",
    "version": 3
   },
   "file_extension": ".py",
   "mimetype": "text/x-python",
   "name": "python",
   "nbconvert_exporter": "python",
   "pygments_lexer": "ipython3",
   "version": "3.11.7"
  }
 },
 "nbformat": 4,
 "nbformat_minor": 5
}
