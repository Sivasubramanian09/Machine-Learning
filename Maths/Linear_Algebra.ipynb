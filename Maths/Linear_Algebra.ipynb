{
 "cells": [
  {
   "cell_type": "code",
   "execution_count": 120,
   "id": "39b35e0c",
   "metadata": {},
   "outputs": [],
   "source": [
    "import numpy as np\n",
    "import torch.nn as nn\n",
    "from numpy.linalg import norm "
   ]
  },
  {
   "cell_type": "code",
   "execution_count": 111,
   "id": "f258b043",
   "metadata": {},
   "outputs": [
    {
     "name": "stdout",
     "output_type": "stream",
     "text": [
      "[[2 3 4 5]\n",
      " [3 4 8 9]\n",
      " [5 1 9 2]]\n",
      "(12,)\n"
     ]
    }
   ],
   "source": [
    "a = np.array([(2,3,4,5),(3,4,8,9),(5,1,9,2)])\n",
    "print(a)\n",
    "a = a.reshape(12,)\n",
    "print(a.shape)"
   ]
  },
  {
   "cell_type": "code",
   "execution_count": 112,
   "id": "eff980ca",
   "metadata": {},
   "outputs": [
    {
     "name": "stdout",
     "output_type": "stream",
     "text": [
      "(12,)\n"
     ]
    }
   ],
   "source": [
    "b = np.array([(2,3,4,5),(3,4,8,9),(5,1,9,2)])\n",
    "b = b.T\n",
    "\n",
    "b = b.reshape(12,)\n",
    "print(b.shape)"
   ]
  },
  {
   "cell_type": "code",
   "execution_count": 104,
   "id": "817592ea",
   "metadata": {},
   "outputs": [
    {
     "name": "stdout",
     "output_type": "stream",
     "text": [
      "[[2 3 5]\n",
      " [3 4 1]\n",
      " [4 8 9]\n",
      " [5 9 2]]\n"
     ]
    }
   ],
   "source": [
    "print(b)"
   ]
  },
  {
   "cell_type": "code",
   "execution_count": 95,
   "id": "f7c58c4d",
   "metadata": {},
   "outputs": [],
   "source": [
    "#  b = b.reshape(4,9)"
   ]
  },
  {
   "cell_type": "code",
   "execution_count": 113,
   "id": "36ce751a",
   "metadata": {},
   "outputs": [
    {
     "name": "stdout",
     "output_type": "stream",
     "text": [
      "303\n"
     ]
    }
   ],
   "source": [
    "c = np.dot(a,b)\n",
    "print(c)"
   ]
  },
  {
   "cell_type": "code",
   "execution_count": 105,
   "id": "106e1cf9",
   "metadata": {},
   "outputs": [],
   "source": [
    "# b = b.reshape(3,4)"
   ]
  },
  {
   "cell_type": "code",
   "execution_count": 115,
   "id": "fae58b83",
   "metadata": {},
   "outputs": [],
   "source": [
    " e = np.linalg.norm(a)\n",
    "\n",
    "f = np.linalg.norm(b)"
   ]
  },
  {
   "cell_type": "code",
   "execution_count": 116,
   "id": "feaa1190",
   "metadata": {},
   "outputs": [
    {
     "name": "stdout",
     "output_type": "stream",
     "text": [
      "18.303005217723125\n",
      "18.303005217723125\n"
     ]
    }
   ],
   "source": [
    "print(e)\n",
    "print(f)"
   ]
  },
  {
   "cell_type": "code",
   "execution_count": 117,
   "id": "294feaa9",
   "metadata": {},
   "outputs": [
    {
     "name": "stdout",
     "output_type": "stream",
     "text": [
      "334.99999999999994\n"
     ]
    }
   ],
   "source": [
    "product = e*f\n",
    "print(product)"
   ]
  },
  {
   "cell_type": "code",
   "execution_count": 134,
   "id": "cda7fe6c",
   "metadata": {},
   "outputs": [
    {
     "name": "stdout",
     "output_type": "stream",
     "text": [
      "0.9044776119402986\n",
      "0.9044776\n"
     ]
    }
   ],
   "source": [
    "#cosine similarity\n",
    "res = c/product\n",
    "print(res)\n",
    "\n",
    "#Cosine similarity\n",
    "x1 = np.dot(a,b) / (norm(a) * norm(b))\n",
    "\n",
    "print(x1)"
   ]
  },
  {
   "cell_type": "code",
   "execution_count": 135,
   "id": "f403c781",
   "metadata": {},
   "outputs": [
    {
     "name": "stdout",
     "output_type": "stream",
     "text": [
      "0.09552240371704102\n"
     ]
    }
   ],
   "source": [
    "#cosine distance\n",
    "x2 = 1 -  (np.dot(a,b) / (norm(a) * norm(b)))\n",
    "print(x2)"
   ]
  },
  {
   "cell_type": "code",
   "execution_count": 136,
   "id": "bd734358",
   "metadata": {},
   "outputs": [],
   "source": [
    "a = torch.Tensor(a)\n",
    "b = torch.Tensor(b)\n",
    "\n",
    "cos = nn.CosineSimilarity(dim=0, eps=1e-6)\n",
    "output = cos(a, b)"
   ]
  },
  {
   "cell_type": "code",
   "execution_count": 137,
   "id": "644cc004",
   "metadata": {},
   "outputs": [
    {
     "name": "stdout",
     "output_type": "stream",
     "text": [
      "tensor(0.9045)\n",
      "0.9044776\n"
     ]
    }
   ],
   "source": [
    "print(output)\n",
    "output = output.numpy()\n",
    "print(output)"
   ]
  },
  {
   "cell_type": "code",
   "execution_count": 138,
   "id": "eb5ee1a3",
   "metadata": {},
   "outputs": [
    {
     "name": "stdout",
     "output_type": "stream",
     "text": [
      "0.09552240371704102\n"
     ]
    }
   ],
   "source": [
    "dist = 1 - output\n",
    "print(dist)"
   ]
  },
  {
   "cell_type": "code",
   "execution_count": 128,
   "id": "f5809fcb",
   "metadata": {},
   "outputs": [
    {
     "name": "stdout",
     "output_type": "stream",
     "text": [
      "0.0955224\n"
     ]
    }
   ],
   "source": [
    "dist = dist.numpy()\n",
    "print(dist)"
   ]
  },
  {
   "cell_type": "code",
   "execution_count": 60,
   "id": "22999a4f",
   "metadata": {},
   "outputs": [],
   "source": [
    "x = (2*3*4*5)/4"
   ]
  },
  {
   "cell_type": "code",
   "execution_count": 62,
   "id": "e7754702",
   "metadata": {},
   "outputs": [
    {
     "name": "stdout",
     "output_type": "stream",
     "text": [
      "30.0\n"
     ]
    }
   ],
   "source": [
    "print(x)"
   ]
  },
  {
   "cell_type": "code",
   "execution_count": 77,
   "id": "3469cfe3",
   "metadata": {},
   "outputs": [
    {
     "name": "stdout",
     "output_type": "stream",
     "text": [
      "4.0\n",
      "4.0\n"
     ]
    }
   ],
   "source": [
    "#norm\n",
    "\n",
    "a = [1,2,3,1,1]\n",
    "\n",
    "print(norm(a))\n",
    "\n",
    "Z = 1+4+9+1+1\n",
    "Z = np.sqrt(Z)\n",
    "print(Z)"
   ]
  },
  {
   "cell_type": "code",
   "execution_count": 75,
   "id": "2108c95c",
   "metadata": {},
   "outputs": [
    {
     "name": "stdout",
     "output_type": "stream",
     "text": [
      "[[1. 0. 0. 0.]\n",
      " [0. 1. 0. 0.]\n",
      " [0. 0. 1. 0.]\n",
      " [0. 0. 0. 1.]]\n"
     ]
    }
   ],
   "source": [
    "s = np\n",
    "# print(s)"
   ]
  },
  {
   "cell_type": "code",
   "execution_count": 204,
   "id": "99c827e2",
   "metadata": {},
   "outputs": [
    {
     "name": "stdout",
     "output_type": "stream",
     "text": [
      "[0.76067138 0.72732265 0.36284783 0.92103136 0.97974268]\n",
      "(5,)\n",
      "[7.94716108 7.1214885  6.34936248 7.21077155 6.55505281]\n",
      "(5,)\n"
     ]
    }
   ],
   "source": [
    "#addition\n",
    "\n",
    "a = np.random.rand(5)\n",
    "print(a)\n",
    "print(a.shape)\n",
    "b = np.random.uniform(2,10,5)\n",
    "print(b)\n",
    "print(b.shape)"
   ]
  },
  {
   "cell_type": "code",
   "execution_count": 205,
   "id": "0e009d68",
   "metadata": {},
   "outputs": [
    {
     "name": "stdout",
     "output_type": "stream",
     "text": [
      "[8.70783245 7.84881114 6.71221031 8.1318029  7.53479548]\n"
     ]
    }
   ],
   "source": [
    "c = a+b\n",
    "print(c)"
   ]
  },
  {
   "cell_type": "code",
   "execution_count": 206,
   "id": "5a3e1688",
   "metadata": {},
   "outputs": [],
   "source": [
    "d = 0.0738779 + 4.17418495"
   ]
  },
  {
   "cell_type": "code",
   "execution_count": 207,
   "id": "e7728a13",
   "metadata": {},
   "outputs": [
    {
     "name": "stdout",
     "output_type": "stream",
     "text": [
      "4.24806285\n"
     ]
    }
   ],
   "source": [
    "print(d)"
   ]
  },
  {
   "cell_type": "code",
   "execution_count": 208,
   "id": "0441feba",
   "metadata": {},
   "outputs": [],
   "source": [
    "# d = np.cross(a,b)\n",
    "# print(d)"
   ]
  },
  {
   "cell_type": "code",
   "execution_count": 215,
   "id": "e334f7e3",
   "metadata": {},
   "outputs": [],
   "source": [
    "ab = np.random.randint(2,10,(4))"
   ]
  },
  {
   "cell_type": "code",
   "execution_count": 210,
   "id": "51f1d40f",
   "metadata": {},
   "outputs": [],
   "source": [
    "x = list(ab)"
   ]
  },
  {
   "cell_type": "code",
   "execution_count": 211,
   "id": "862c614c",
   "metadata": {},
   "outputs": [
    {
     "name": "stdout",
     "output_type": "stream",
     "text": [
      "[9, 3, 8, 5]\n"
     ]
    }
   ],
   "source": [
    "print(x)"
   ]
  },
  {
   "cell_type": "code",
   "execution_count": 212,
   "id": "0b86dffb",
   "metadata": {},
   "outputs": [],
   "source": [
    "y = tuple(x)"
   ]
  },
  {
   "cell_type": "code",
   "execution_count": 216,
   "id": "c863f5d6",
   "metadata": {},
   "outputs": [
    {
     "name": "stdout",
     "output_type": "stream",
     "text": [
      "(9, 3, 8, 5)\n"
     ]
    },
    {
     "ename": "AttributeError",
     "evalue": "'numpy.ndarray' object has no attribute 'int'",
     "output_type": "error",
     "traceback": [
      "\u001b[0;31m---------------------------------------------------------------------------\u001b[0m",
      "\u001b[0;31mAttributeError\u001b[0m                            Traceback (most recent call last)",
      "Cell \u001b[0;32mIn[216], line 2\u001b[0m\n\u001b[1;32m      1\u001b[0m \u001b[38;5;28mprint\u001b[39m(y)\n\u001b[0;32m----> 2\u001b[0m ab \u001b[38;5;241m=\u001b[39m \u001b[43mab\u001b[49m\u001b[38;5;241;43m.\u001b[39;49m\u001b[43mint\u001b[49m()\n",
      "\u001b[0;31mAttributeError\u001b[0m: 'numpy.ndarray' object has no attribute 'int'"
     ]
    }
   ],
   "source": [
    "print(y)\n",
    "ab = "
   ]
  },
  {
   "cell_type": "code",
   "execution_count": 214,
   "id": "c96a8091",
   "metadata": {},
   "outputs": [],
   "source": [
    "ab = torch.IntTensor(ab)"
   ]
  },
  {
   "cell_type": "code",
   "execution_count": 203,
   "id": "62f40125",
   "metadata": {},
   "outputs": [
    {
     "name": "stdout",
     "output_type": "stream",
     "text": [
      "tensor([8, 2, 4, 6], dtype=torch.int32)\n"
     ]
    }
   ],
   "source": [
    "print(ab)"
   ]
  },
  {
   "cell_type": "code",
   "execution_count": null,
   "id": "b229ad77",
   "metadata": {},
   "outputs": [],
   "source": []
  }
 ],
 "metadata": {
  "kernelspec": {
   "display_name": "Python 3 (ipykernel)",
   "language": "python",
   "name": "python3"
  },
  "language_info": {
   "codemirror_mode": {
    "name": "ipython",
    "version": 3
   },
   "file_extension": ".py",
   "mimetype": "text/x-python",
   "name": "python",
   "nbconvert_exporter": "python",
   "pygments_lexer": "ipython3",
   "version": "3.8.10"
  }
 },
 "nbformat": 4,
 "nbformat_minor": 5
}
