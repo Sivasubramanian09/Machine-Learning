{
 "cells": [
  {
   "cell_type": "code",
   "execution_count": 19,
   "id": "2be8ab58",
   "metadata": {},
   "outputs": [],
   "source": [
    "import numpy as np"
   ]
  },
  {
   "cell_type": "code",
   "execution_count": 20,
   "id": "c2b493d1",
   "metadata": {},
   "outputs": [],
   "source": [
    "#returns only 1 number\n",
    "x = np.random.randint(10,20)"
   ]
  },
  {
   "cell_type": "code",
   "execution_count": 21,
   "id": "438c55fc",
   "metadata": {},
   "outputs": [
    {
     "name": "stdout",
     "output_type": "stream",
     "text": [
      "13\n"
     ]
    }
   ],
   "source": [
    "print(x)"
   ]
  },
  {
   "cell_type": "code",
   "execution_count": 22,
   "id": "87305fa8",
   "metadata": {},
   "outputs": [],
   "source": [
    "#returns depend on the given size, reutrns number betwee 0-1\n",
    "\n",
    "y = np.random.rand(10)"
   ]
  },
  {
   "cell_type": "code",
   "execution_count": 23,
   "id": "f41e4e8b",
   "metadata": {},
   "outputs": [
    {
     "name": "stdout",
     "output_type": "stream",
     "text": [
      "[0.55277787 0.26453698 0.30866591 0.3680112  0.67685548 0.85681097\n",
      " 0.50298025 0.94238727 0.01809486 0.14167329]\n"
     ]
    }
   ],
   "source": [
    "print(y)"
   ]
  },
  {
   "cell_type": "code",
   "execution_count": 24,
   "id": "72f618bc",
   "metadata": {},
   "outputs": [],
   "source": [
    "z = np.random.randn(10)"
   ]
  },
  {
   "cell_type": "code",
   "execution_count": 25,
   "id": "aec717a4",
   "metadata": {},
   "outputs": [
    {
     "name": "stdout",
     "output_type": "stream",
     "text": [
      "[ 1.0949577   1.75186857  0.90096021  0.48625218  0.05490215 -1.02439719\n",
      "  0.14501476 -1.98631288 -1.0199581  -0.27289647]\n"
     ]
    }
   ],
   "source": [
    "print(z)"
   ]
  },
  {
   "cell_type": "code",
   "execution_count": 26,
   "id": "231fb7b9",
   "metadata": {},
   "outputs": [
    {
     "name": "stdout",
     "output_type": "stream",
     "text": [
      "[[10  2 14  6]]\n"
     ]
    }
   ],
   "source": [
    "i = np.random.choice(20,(1,4))\n",
    "print(i)"
   ]
  },
  {
   "cell_type": "code",
   "execution_count": 27,
   "id": "8e382cce",
   "metadata": {},
   "outputs": [],
   "source": [
    "import numpy.linalg as nl"
   ]
  },
  {
   "cell_type": "code",
   "execution_count": 28,
   "id": "f6f22bd0",
   "metadata": {},
   "outputs": [
    {
     "name": "stdout",
     "output_type": "stream",
     "text": [
      "[[0.40330697 0.81968198 0.45958095 0.80400182 0.70004958 0.98374906\n",
      "  0.17720115 0.34085006]\n",
      " [0.26388459 0.30277386 0.87524013 0.36800938 0.80877765 0.13121423\n",
      "  0.87680978 0.78001455]\n",
      " [0.38462675 0.61803656 0.74530653 0.76915136 0.08270546 0.07785744\n",
      "  0.03311689 0.96660697]\n",
      " [0.73490526 0.92147208 0.34219193 0.5280271  0.13725994 0.64591242\n",
      "  0.28116927 0.1921368 ]\n",
      " [0.22605365 0.78653995 0.92283386 0.21036212 0.35338424 0.70581619\n",
      "  0.20678933 0.26492529]\n",
      " [0.82799166 0.90907238 0.70521966 0.51948862 0.47404085 0.58613689\n",
      "  0.91574341 0.71724354]\n",
      " [0.59592626 0.24631289 0.57481607 0.90564    0.76531227 0.64256511\n",
      "  0.20669056 0.26513084]\n",
      " [0.91882199 0.57930544 0.00970825 0.45038131 0.42292426 0.11296905\n",
      "  0.85707139 0.11770816]\n",
      " [0.76495938 0.60790429 0.02952254 0.36765582 0.92531777 0.25722661\n",
      "  0.36771405 0.071097  ]\n",
      " [0.92980633 0.8977642  0.7333101  0.45664878 0.9422753  0.24790503\n",
      "  0.5278781  0.90642013]]\n"
     ]
    }
   ],
   "source": [
    "x = np.random.rand(10,8)\n",
    "y = np.random.randn(8,12)\n",
    "print(x)"
   ]
  },
  {
   "cell_type": "code",
   "execution_count": 29,
   "id": "336fd066",
   "metadata": {},
   "outputs": [],
   "source": [
    "z = np.dot(x,y)"
   ]
  },
  {
   "cell_type": "code",
   "execution_count": 30,
   "id": "af7b2955",
   "metadata": {},
   "outputs": [
    {
     "name": "stdout",
     "output_type": "stream",
     "text": [
      "(10, 12)\n"
     ]
    }
   ],
   "source": [
    "print(z.shape)"
   ]
  },
  {
   "cell_type": "code",
   "execution_count": 31,
   "id": "be353999",
   "metadata": {},
   "outputs": [
    {
     "name": "stdout",
     "output_type": "stream",
     "text": [
      "4.071945494671288\n"
     ]
    }
   ],
   "source": [
    "x1 = np.random.rand(10,1)  \n",
    "y1 = np.random.rand(1,10)\n",
    "z1 = np.vdot(x1,y1)   # gives the dot product of 2 vectors. so the output of this will be a single scalar value\n",
    "print(z1)"
   ]
  },
  {
   "cell_type": "code",
   "execution_count": 34,
   "id": "559ef247",
   "metadata": {},
   "outputs": [
    {
     "ename": "AttributeError",
     "evalue": "module 'numpy.linalg' has no attribute 'vecdot'",
     "output_type": "error",
     "traceback": [
      "\u001b[0;31m---------------------------------------------------------------------------\u001b[0m",
      "\u001b[0;31mAttributeError\u001b[0m                            Traceback (most recent call last)",
      "Cell \u001b[0;32mIn[34], line 5\u001b[0m\n\u001b[1;32m      3\u001b[0m v \u001b[38;5;241m=\u001b[39m np\u001b[38;5;241m.\u001b[39marray([[\u001b[38;5;241m0.\u001b[39m, \u001b[38;5;241m5.\u001b[39m, \u001b[38;5;241m0.\u001b[39m], [\u001b[38;5;241m0.\u001b[39m, \u001b[38;5;241m0.\u001b[39m, \u001b[38;5;241m10.\u001b[39m], [\u001b[38;5;241m0.\u001b[39m, \u001b[38;5;241m6.\u001b[39m, \u001b[38;5;241m8.\u001b[39m]])\n\u001b[1;32m      4\u001b[0m n \u001b[38;5;241m=\u001b[39m np\u001b[38;5;241m.\u001b[39marray([\u001b[38;5;241m0.\u001b[39m, \u001b[38;5;241m0.6\u001b[39m, \u001b[38;5;241m0.8\u001b[39m])\n\u001b[0;32m----> 5\u001b[0m z \u001b[38;5;241m=\u001b[39m \u001b[43mnp\u001b[49m\u001b[38;5;241;43m.\u001b[39;49m\u001b[43mlinalg\u001b[49m\u001b[38;5;241;43m.\u001b[39;49m\u001b[43mvecdot\u001b[49m(v, n)\n\u001b[1;32m      6\u001b[0m \u001b[38;5;66;03m# array([ 3.,  8., 10.])\u001b[39;00m\n",
      "\u001b[0;31mAttributeError\u001b[0m: module 'numpy.linalg' has no attribute 'vecdot'"
     ]
    }
   ],
   "source": [
    "#vecdot\n",
    "\n",
    "v = np.array([[0., 5., 0.], [0., 0., 10.], [0., 6., 8.]])\n",
    "n = np.array([0., 0.6, 0.8])\n",
    "z = np.linalg.vecdot(v, n)\n",
    "# array([ 3.,  8., 10.])"
   ]
  },
  {
   "cell_type": "code",
   "execution_count": 37,
   "id": "797d413e",
   "metadata": {},
   "outputs": [
    {
     "name": "stdout",
     "output_type": "stream",
     "text": [
      "1.24.4\n"
     ]
    }
   ],
   "source": [
    "print(np.__version__)"
   ]
  },
  {
   "cell_type": "code",
   "execution_count": 39,
   "id": "68cdcb1e",
   "metadata": {},
   "outputs": [
    {
     "name": "stdout",
     "output_type": "stream",
     "text": [
      "\u001b[31mERROR: Could not find a version that satisfies the requirement numpy==2.0.1 (from versions: 1.3.0, 1.4.1, 1.5.0, 1.5.1, 1.6.0, 1.6.1, 1.6.2, 1.7.0, 1.7.1, 1.7.2, 1.8.0, 1.8.1, 1.8.2, 1.9.0, 1.9.1, 1.9.2, 1.9.3, 1.10.0.post2, 1.10.1, 1.10.2, 1.10.4, 1.11.0, 1.11.1, 1.11.2, 1.11.3, 1.12.0, 1.12.1, 1.13.0, 1.13.1, 1.13.3, 1.14.0, 1.14.1, 1.14.2, 1.14.3, 1.14.4, 1.14.5, 1.14.6, 1.15.0, 1.15.1, 1.15.2, 1.15.3, 1.15.4, 1.16.0, 1.16.1, 1.16.2, 1.16.3, 1.16.4, 1.16.5, 1.16.6, 1.17.0, 1.17.1, 1.17.2, 1.17.3, 1.17.4, 1.17.5, 1.18.0, 1.18.1, 1.18.2, 1.18.3, 1.18.4, 1.18.5, 1.19.0, 1.19.1, 1.19.2, 1.19.3, 1.19.4, 1.19.5, 1.20.0, 1.20.1, 1.20.2, 1.20.3, 1.21.0, 1.21.1, 1.21.2, 1.21.3, 1.21.4, 1.21.5, 1.21.6, 1.22.0, 1.22.1, 1.22.2, 1.22.3, 1.22.4, 1.23.0rc1, 1.23.0rc2, 1.23.0rc3, 1.23.0, 1.23.1, 1.23.2, 1.23.3, 1.23.4, 1.23.5, 1.24.0rc1, 1.24.0rc2, 1.24.0, 1.24.1, 1.24.2, 1.24.3, 1.24.4)\u001b[0m\n",
      "\u001b[31mERROR: No matching distribution found for numpy==2.0.1\u001b[0m\n",
      "Note: you may need to restart the kernel to use updated packages.\n"
     ]
    }
   ],
   "source": [
    "pip install --force-reinstall numpy==2.0.1"
   ]
  },
  {
   "cell_type": "code",
   "execution_count": null,
   "id": "1cd6529b",
   "metadata": {},
   "outputs": [],
   "source": []
  }
 ],
 "metadata": {
  "kernelspec": {
   "display_name": "Python 3 (ipykernel)",
   "language": "python",
   "name": "python3"
  },
  "language_info": {
   "codemirror_mode": {
    "name": "ipython",
    "version": 3
   },
   "file_extension": ".py",
   "mimetype": "text/x-python",
   "name": "python",
   "nbconvert_exporter": "python",
   "pygments_lexer": "ipython3",
   "version": "3.8.10"
  }
 },
 "nbformat": 4,
 "nbformat_minor": 5
}
