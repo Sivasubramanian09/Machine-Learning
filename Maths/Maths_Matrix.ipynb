{
 "cells": [
  {
   "cell_type": "code",
   "execution_count": null,
   "id": "ca96394d-fc14-4bf3-b532-d962d6e8b7f1",
   "metadata": {},
   "outputs": [],
   "source": [
    "#Matrix - Basics"
   ]
  },
  {
   "cell_type": "code",
   "execution_count": 2,
   "id": "d867fe65-c483-48eb-bf75-145f617eb98a",
   "metadata": {},
   "outputs": [],
   "source": [
    "import numpy as np\n",
    "import matplotlib.pyplot as plt"
   ]
  },
  {
   "cell_type": "code",
   "execution_count": 3,
   "id": "4aa3b726-44c3-4159-a9d7-32894350bbcd",
   "metadata": {},
   "outputs": [
    {
     "name": "stdout",
     "output_type": "stream",
     "text": [
      "[[2 3]\n",
      " [4 5]]\n"
     ]
    }
   ],
   "source": [
    "#Creating a Matrix using numpy\n",
    "\n",
    "matrix = np.array([(2,3),(4,5)])\n",
    "print(matrix)"
   ]
  },
  {
   "cell_type": "code",
   "execution_count": 5,
   "id": "a941cb9a-35aa-4aa6-b9ac-71fd67f85ac2",
   "metadata": {},
   "outputs": [
    {
     "data": {
      "text/plain": [
       "(2, 2)"
      ]
     },
     "execution_count": 5,
     "metadata": {},
     "output_type": "execute_result"
    }
   ],
   "source": [
    "matrix.shape"
   ]
  },
  {
   "cell_type": "code",
   "execution_count": null,
   "id": "cd2e22d3-097a-47b5-9080-abf2f8bfe93e",
   "metadata": {},
   "outputs": [],
   "source": [
    "#Creating Matrix with Random Values"
   ]
  },
  {
   "cell_type": "code",
   "execution_count": 7,
   "id": "b9f4b8bc-622e-43c8-a0c0-7dc600359d70",
   "metadata": {},
   "outputs": [],
   "source": [
    "random_matrix = np.random.rand(3,3)"
   ]
  },
  {
   "cell_type": "code",
   "execution_count": 8,
   "id": "e22f0403-2e03-4917-9f2f-7193ed922dbb",
   "metadata": {},
   "outputs": [
    {
     "name": "stdout",
     "output_type": "stream",
     "text": [
      "[[0.01228569 0.35655654 0.74516517]\n",
      " [0.04580967 0.0032696  0.81989908]\n",
      " [0.38539406 0.29525703 0.59644788]]\n"
     ]
    }
   ],
   "source": [
    "print(random_matrix)"
   ]
  },
  {
   "cell_type": "code",
   "execution_count": 13,
   "id": "d88731ec-d3ad-4822-bd81-eea0aa2a4762",
   "metadata": {},
   "outputs": [],
   "source": [
    "random = np.random.randint(3,10,[2,3])"
   ]
  },
  {
   "cell_type": "code",
   "execution_count": 14,
   "id": "22275ea0-714e-4405-8d35-d76029f5fd55",
   "metadata": {},
   "outputs": [
    {
     "name": "stdout",
     "output_type": "stream",
     "text": [
      "[[6 7 6]\n",
      " [9 6 9]]\n"
     ]
    }
   ],
   "source": [
    "print(random)"
   ]
  },
  {
   "cell_type": "code",
   "execution_count": 23,
   "id": "393f7423-2aca-4cc8-8044-c23158e2e367",
   "metadata": {},
   "outputs": [],
   "source": [
    "#Matrix with all the values as 1\n",
    "\n",
    "matrix = np.ones((2,3),dtype = float)"
   ]
  },
  {
   "cell_type": "code",
   "execution_count": 24,
   "id": "301bf774-a305-4ee3-b878-21c97c080a88",
   "metadata": {},
   "outputs": [
    {
     "name": "stdout",
     "output_type": "stream",
     "text": [
      "[[1. 1. 1.]\n",
      " [1. 1. 1.]]\n"
     ]
    }
   ],
   "source": [
    "print(matrix)"
   ]
  },
  {
   "cell_type": "code",
   "execution_count": 27,
   "id": "5de4a4b8-b04a-44a6-b11c-ee9b1ac1514e",
   "metadata": {},
   "outputs": [],
   "source": [
    "#Null Matrix/Zero Matrix\n",
    "\n",
    "null_matrix = np.zeros((4,4))"
   ]
  },
  {
   "cell_type": "code",
   "execution_count": 28,
   "id": "775fa9ab-8ca5-41c8-be13-a1a2231fe163",
   "metadata": {},
   "outputs": [
    {
     "name": "stdout",
     "output_type": "stream",
     "text": [
      "[[0. 0. 0. 0.]\n",
      " [0. 0. 0. 0.]\n",
      " [0. 0. 0. 0.]\n",
      " [0. 0. 0. 0.]]\n"
     ]
    }
   ],
   "source": [
    "print(null_matrix)"
   ]
  },
  {
   "cell_type": "code",
   "execution_count": 29,
   "id": "0e3e922d-e5e6-4d03-a119-bcd074321bd8",
   "metadata": {},
   "outputs": [],
   "source": [
    "#Identity Matrix\n",
    "\n",
    "eye_matrix = np.eye(4,3)"
   ]
  },
  {
   "cell_type": "code",
   "execution_count": 30,
   "id": "da38e839-0837-4f04-b0fb-5fb4f68922f3",
   "metadata": {},
   "outputs": [
    {
     "name": "stdout",
     "output_type": "stream",
     "text": [
      "[[1. 0. 0.]\n",
      " [0. 1. 0.]\n",
      " [0. 0. 1.]\n",
      " [0. 0. 0.]]\n"
     ]
    }
   ],
   "source": [
    "print(eye_matrix)"
   ]
  },
  {
   "cell_type": "code",
   "execution_count": 31,
   "id": "094e256a-5402-42a4-a555-9859b0887f10",
   "metadata": {},
   "outputs": [],
   "source": [
    "#Transpose of a Matrix"
   ]
  },
  {
   "cell_type": "code",
   "execution_count": 33,
   "id": "75cdcaca-e538-4547-95b9-4611623443f1",
   "metadata": {},
   "outputs": [
    {
     "name": "stdout",
     "output_type": "stream",
     "text": [
      "[[2 5]\n",
      " [3 6]\n",
      " [4 7]]\n"
     ]
    }
   ],
   "source": [
    "z = np.array([(2,3,4),(5,6,7)])\n",
    "x = np.transpose(z)\n",
    "print(x)"
   ]
  },
  {
   "cell_type": "code",
   "execution_count": 34,
   "id": "9f2d76e8-f852-49e6-a2b9-9765e5b0ea9c",
   "metadata": {},
   "outputs": [],
   "source": [
    "#Addition of Matrices"
   ]
  },
  {
   "cell_type": "code",
   "execution_count": 35,
   "id": "eaf670be-5541-4e7a-aeaa-13267073b344",
   "metadata": {},
   "outputs": [],
   "source": [
    "a= np.array([(3,4,5),(1,6,2)])"
   ]
  },
  {
   "cell_type": "code",
   "execution_count": 36,
   "id": "1f0343fe-87d4-41a6-8148-4c827e52f6d1",
   "metadata": {},
   "outputs": [
    {
     "name": "stdout",
     "output_type": "stream",
     "text": [
      "[[3 4 5]\n",
      " [1 6 2]]\n"
     ]
    }
   ],
   "source": [
    "print(a)"
   ]
  },
  {
   "cell_type": "code",
   "execution_count": 38,
   "id": "5fde4e1a-cecc-4c77-a7bd-35301003984a",
   "metadata": {},
   "outputs": [],
   "source": [
    "b= np.array([(12,3,1),(9,5,8)])"
   ]
  },
  {
   "cell_type": "code",
   "execution_count": 39,
   "id": "747e36b0-23b8-42fd-851f-5fa3de71619a",
   "metadata": {},
   "outputs": [
    {
     "name": "stdout",
     "output_type": "stream",
     "text": [
      "[[12  3  1]\n",
      " [ 9  5  8]]\n"
     ]
    }
   ],
   "source": [
    "print(b)"
   ]
  },
  {
   "cell_type": "code",
   "execution_count": 40,
   "id": "e0685c76-62db-4ef4-8fd7-65de6e359d8c",
   "metadata": {},
   "outputs": [
    {
     "name": "stdout",
     "output_type": "stream",
     "text": [
      "[[24  6  2]\n",
      " [18 10 16]]\n"
     ]
    }
   ],
   "source": [
    "res = a+b\n",
    "print(res)"
   ]
  },
  {
   "cell_type": "code",
   "execution_count": 42,
   "id": "1bbac478-3aa9-405e-8028-9951f0c9e1b7",
   "metadata": {},
   "outputs": [
    {
     "name": "stdout",
     "output_type": "stream",
     "text": [
      "[[-9  1  4]\n",
      " [-8  1 -6]]\n"
     ]
    }
   ],
   "source": [
    "a= np.array([(3,4,5),(1,6,2)])\n",
    "b= np.array([(12,3,1),(9,5,8)])\n",
    "sub_res = a-b\n",
    "print(sub_res)"
   ]
  },
  {
   "cell_type": "code",
   "execution_count": 43,
   "id": "2d4ce0b4-96c7-4f59-b989-6e08523f95da",
   "metadata": {},
   "outputs": [],
   "source": [
    "a= np.array([(3,4,5),(1,6,2)])\n",
    "b= np.array([(12,3,1),(9,5,8)])\n",
    "x = np.subtract(a,b)"
   ]
  },
  {
   "cell_type": "code",
   "execution_count": 44,
   "id": "8f9a01a8-87b8-4d15-8de8-635fbf0091d0",
   "metadata": {},
   "outputs": [
    {
     "name": "stdout",
     "output_type": "stream",
     "text": [
      "[[-9  1  4]\n",
      " [-8  1 -6]]\n"
     ]
    }
   ],
   "source": [
    "print(x)"
   ]
  },
  {
   "cell_type": "code",
   "execution_count": 45,
   "id": "628254d8-1427-4080-8448-24427cb58cac",
   "metadata": {},
   "outputs": [],
   "source": [
    "#Multiplying a matrix by a scaler"
   ]
  },
  {
   "cell_type": "code",
   "execution_count": 46,
   "id": "3452b7aa-9a39-49fb-96d9-76e10d40af83",
   "metadata": {},
   "outputs": [
    {
     "name": "stdout",
     "output_type": "stream",
     "text": [
      "[[20 30 15]\n",
      " [ 5 10 15]]\n"
     ]
    }
   ],
   "source": [
    "x=5\n",
    "y =np.array([(4,6,3),(1,2,3)])\n",
    "z = x*y\n",
    "print(z)"
   ]
  },
  {
   "cell_type": "code",
   "execution_count": 47,
   "id": "ee63fbf2-d0be-4b45-99a1-d6ea05fabd97",
   "metadata": {},
   "outputs": [],
   "source": [
    "res = np.multiply(x,y)"
   ]
  },
  {
   "cell_type": "code",
   "execution_count": 48,
   "id": "5fbb953c-d04b-4f0c-a4c3-b3ec17b4fe35",
   "metadata": {},
   "outputs": [
    {
     "name": "stdout",
     "output_type": "stream",
     "text": [
      "[[20 30 15]\n",
      " [ 5 10 15]]\n"
     ]
    }
   ],
   "source": [
    "print(res)"
   ]
  },
  {
   "cell_type": "code",
   "execution_count": 49,
   "id": "e3e622f5-2b9c-4b55-be78-4ea6c967e8dd",
   "metadata": {},
   "outputs": [],
   "source": [
    "#Multiplying the 2 Matrices"
   ]
  },
  {
   "cell_type": "code",
   "execution_count": 70,
   "id": "2d66bddb-5294-4617-ad9e-8044e90fc0cf",
   "metadata": {},
   "outputs": [],
   "source": [
    "a = np.random.randint(20,size=(4,3))"
   ]
  },
  {
   "cell_type": "code",
   "execution_count": 71,
   "id": "33e17a68-31cf-493d-a96a-3bed8803f3dc",
   "metadata": {},
   "outputs": [],
   "source": [
    "b = np.random.randint(50,size = (3,5))\n"
   ]
  },
  {
   "cell_type": "code",
   "execution_count": 72,
   "id": "3e5a048c-939a-48a4-88eb-503fba67c05c",
   "metadata": {},
   "outputs": [
    {
     "name": "stdout",
     "output_type": "stream",
     "text": [
      "[[11 14  0]\n",
      " [ 9 14 15]\n",
      " [16 10 17]\n",
      " [ 5 10 10]] [[29 39 35 29 12]\n",
      " [31 46 20 18 17]\n",
      " [45  6 14  5 28]]\n"
     ]
    }
   ],
   "source": [
    "\n",
    "print(a,b)"
   ]
  },
  {
   "cell_type": "code",
   "execution_count": 73,
   "id": "42d472db-5dfe-4197-8c25-8fbb84b5144e",
   "metadata": {},
   "outputs": [],
   "source": [
    "z = np.dot(a,b)"
   ]
  },
  {
   "cell_type": "code",
   "execution_count": 74,
   "id": "5f969369-6538-4102-a510-316ace95bb44",
   "metadata": {},
   "outputs": [
    {
     "name": "stdout",
     "output_type": "stream",
     "text": [
      "[[ 753 1073  665  571  370]\n",
      " [1370 1085  805  588  766]\n",
      " [1539 1186  998  729  838]\n",
      " [ 905  715  515  375  510]]\n"
     ]
    }
   ],
   "source": [
    "print(z)"
   ]
  },
  {
   "cell_type": "code",
   "execution_count": 75,
   "id": "40bd7069-4eb7-4bfd-a902-6cbccfa2b20e",
   "metadata": {},
   "outputs": [],
   "source": [
    "#Elements wise Matrix Multiplication"
   ]
  },
  {
   "cell_type": "code",
   "execution_count": 77,
   "id": "d2dc7b79-167c-4e08-bc54-037719bd7b84",
   "metadata": {},
   "outputs": [],
   "source": [
    "a = np.random.randint(20,size=(3,3))\n",
    "b = np.random.randint(50,size = (3,3))\n",
    "product = np.multiply(a,b)"
   ]
  },
  {
   "cell_type": "code",
   "execution_count": 78,
   "id": "7b57f2f2-d2f3-4078-bd08-9e4430d4e2d3",
   "metadata": {},
   "outputs": [
    {
     "name": "stdout",
     "output_type": "stream",
     "text": [
      "[[ 81  91 196]\n",
      " [630 736  42]\n",
      " [210 444   0]]\n"
     ]
    }
   ],
   "source": [
    "print(product)"
   ]
  },
  {
   "cell_type": "code",
   "execution_count": null,
   "id": "fdd45607-5b69-4e2e-b87e-2550b16cf461",
   "metadata": {},
   "outputs": [],
   "source": []
  }
 ],
 "metadata": {
  "kernelspec": {
   "display_name": "Python 3 (ipykernel)",
   "language": "python",
   "name": "python3"
  },
  "language_info": {
   "codemirror_mode": {
    "name": "ipython",
    "version": 3
   },
   "file_extension": ".py",
   "mimetype": "text/x-python",
   "name": "python",
   "nbconvert_exporter": "python",
   "pygments_lexer": "ipython3",
   "version": "3.11.7"
  }
 },
 "nbformat": 4,
 "nbformat_minor": 5
}
