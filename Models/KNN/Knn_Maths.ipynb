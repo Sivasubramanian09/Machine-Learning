{
 "cells": [
  {
   "cell_type": "code",
   "execution_count": 3,
   "id": "0f1569b2-3ae9-4c16-ba59-566bc493b434",
   "metadata": {},
   "outputs": [],
   "source": [
    "import numpy as np"
   ]
  },
  {
   "cell_type": "code",
   "execution_count": 4,
   "id": "e69653e1-5939-406e-b0ff-90b761764638",
   "metadata": {},
   "outputs": [],
   "source": [
    "#Consider two points to calculate the distance"
   ]
  },
  {
   "cell_type": "code",
   "execution_count": 5,
   "id": "eb1c7a96-d55f-4270-92c3-9a4a8bfac045",
   "metadata": {},
   "outputs": [],
   "source": [
    "p1 = (1,1)\n",
    "p2 = (2,2)"
   ]
  },
  {
   "cell_type": "code",
   "execution_count": 6,
   "id": "c38c64a6-1fc7-4bb6-821a-4e31524071d6",
   "metadata": {},
   "outputs": [],
   "source": [
    "#Calculating Euclidean Distance"
   ]
  },
  {
   "cell_type": "code",
   "execution_count": 12,
   "id": "2771ed80-c6e0-4a0d-b28d-8a39b33d8f36",
   "metadata": {},
   "outputs": [],
   "source": [
    "dist = (p1[0] - p2[0])**2 + (p1[1] - p2[1])**2"
   ]
  },
  {
   "cell_type": "code",
   "execution_count": 15,
   "id": "0dd60a86-4ef3-4947-b75a-62dbb93c7974",
   "metadata": {},
   "outputs": [],
   "source": [
    "euclidean_distance = np.sqrt(dist)"
   ]
  },
  {
   "cell_type": "code",
   "execution_count": 16,
   "id": "bf84742b-974e-4a1e-be88-8b0de24968d7",
   "metadata": {},
   "outputs": [
    {
     "name": "stdout",
     "output_type": "stream",
     "text": [
      "1.4142135623730951\n"
     ]
    }
   ],
   "source": [
    "print(euclidean_distance)"
   ]
  },
  {
   "cell_type": "code",
   "execution_count": 19,
   "id": "d1af0f78-6600-43aa-885c-12df4798d50f",
   "metadata": {},
   "outputs": [],
   "source": [
    "p1 = (2,3,2)\n",
    "p2 = (3,4,3)"
   ]
  },
  {
   "cell_type": "code",
   "execution_count": 22,
   "id": "d1ac4811-30dc-4fc0-b4b1-f97085de44cd",
   "metadata": {},
   "outputs": [],
   "source": [
    "dist = (p1[0] - p2[0])**2 + (p1[1] - p2[1])**2 + (p1[2] - p2[2])**2"
   ]
  },
  {
   "cell_type": "code",
   "execution_count": 25,
   "id": "c69f964c-675d-40ab-8219-aa8f329379a7",
   "metadata": {},
   "outputs": [],
   "source": [
    "euclidean_distance = np.sqrt(dist)"
   ]
  },
  {
   "cell_type": "code",
   "execution_count": 26,
   "id": "73ae5572-6947-4523-8cb9-2b16a8023bba",
   "metadata": {},
   "outputs": [
    {
     "name": "stdout",
     "output_type": "stream",
     "text": [
      "1.7320508075688772\n"
     ]
    }
   ],
   "source": [
    "print(euclidean_distance)"
   ]
  },
  {
   "cell_type": "code",
   "execution_count": 29,
   "id": "2d3a853c-613b-4d05-b547-da8e991ca3cc",
   "metadata": {},
   "outputs": [],
   "source": [
    "p1 = (2,3,2,4)\n",
    "p2 = (3,4,3,3)\n",
    "\n",
    "for i in range(len(p1)):\n",
    "    dist = dist + ((p1[i] - p2[i])**2)"
   ]
  },
  {
   "cell_type": "code",
   "execution_count": 30,
   "id": "ad0aa125-6f6d-47ca-816d-3c004441a6ca",
   "metadata": {},
   "outputs": [],
   "source": [
    "distance = np.sqrt(dist)"
   ]
  },
  {
   "cell_type": "code",
   "execution_count": 31,
   "id": "c9d51bcc-490f-41e7-b3c4-f7ee89fde6aa",
   "metadata": {},
   "outputs": [
    {
     "name": "stdout",
     "output_type": "stream",
     "text": [
      "2.6457513110645907\n"
     ]
    }
   ],
   "source": [
    "print(distance)"
   ]
  },
  {
   "cell_type": "code",
   "execution_count": 33,
   "id": "1a795664-5abb-46d7-94a4-e6b1d39d63ff",
   "metadata": {},
   "outputs": [
    {
     "name": "stdout",
     "output_type": "stream",
     "text": [
      "2.6457513110645907\n"
     ]
    }
   ],
   "source": [
    "def euclidean_distance(p1,p2):\n",
    "\n",
    "    dist = 0\n",
    "\n",
    "    for i in range(len(p1)):\n",
    "        dist = dist + ((p1[i]))\n",
    "\n",
    "    euclidean_distance = np.sqrt(dist)\n",
    "    print(euclidean_distance)\n",
    "                             "
   ]
  },
  {
   "cell_type": "code",
   "execution_count": 34,
   "id": "2e15291b-f679-49f8-b761-7b057d34eb0f",
   "metadata": {},
   "outputs": [],
   "source": [
    "#Manhattan distance\n",
    "\n",
    "def manhattan_distance(p1,p2):\n",
    "\n",
    "    dist = 0\n",
    "\n",
    "    for i in range(len(p1)):\n",
    "        dist = dist + abs(p1[i] - p2[i])\n",
    "\n",
    "    manhattan_distance = np.sqrt(dist)\n",
    "    print(dist)"
   ]
  },
  {
   "cell_type": "code",
   "execution_count": null,
   "id": "74ba4def-5ff2-466a-8375-f869d2e98667",
   "metadata": {},
   "outputs": [],
   "source": []
  }
 ],
 "metadata": {
  "kernelspec": {
   "display_name": "Python 3 (ipykernel)",
   "language": "python",
   "name": "python3"
  },
  "language_info": {
   "codemirror_mode": {
    "name": "ipython",
    "version": 3
   },
   "file_extension": ".py",
   "mimetype": "text/x-python",
   "name": "python",
   "nbconvert_exporter": "python",
   "pygments_lexer": "ipython3",
   "version": "3.11.7"
  }
 },
 "nbformat": 4,
 "nbformat_minor": 5
}
