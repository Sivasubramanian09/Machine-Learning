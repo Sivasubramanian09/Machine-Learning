{
 "cells": [
  {
   "cell_type": "code",
   "execution_count": null,
   "id": "6f9d2f0d-a197-4677-b8be-f4d4f23a2fe4",
   "metadata": {},
   "outputs": [],
   "source": [
    "#Lasso Refression\n",
    "\n",
    "#It is built on the top of the linear regression, so the equation is same as the linear regressiom"
   ]
  },
  {
   "cell_type": "code",
   "execution_count": 1,
   "id": "a9f55bb4-8829-41cb-b108-1d8ccfbb20b7",
   "metadata": {},
   "outputs": [],
   "source": [
    "import numpy as np"
   ]
  },
  {
   "cell_type": "code",
   "execution_count": 3,
   "id": "fdd14ad4-be81-4c0a-85b6-1905c37f290e",
   "metadata": {},
   "outputs": [],
   "source": [
    "#lasso Regression\n",
    "\n",
    "class Lasso_Regression():\n",
    "    def __init__(self,learning_rate, no_of_iterrations,lambda_parameter):\n",
    "\n",
    "        self.learning_rate = learning_rate\n",
    "        self.no_of_iterrations = no_of_iterrations\n",
    "        self.lambda_parameter = lambda_parameter\n",
    "\n",
    "    def fit(self,X,Y):\n",
    "        self.m , self.n = X.shape\n",
    "\n",
    "        self.w = np.zeros(self.n)\n",
    "        self.b = 0\n",
    "        self.X = X\n",
    "        self.Y = Y\n",
    "\n",
    "        for i in range(no_of_iterrations):\n",
    "            self.update_weights()\n",
    "\n",
    "    def update_weights(self):\n",
    "        Y_pred = self.predict(self.X)\n",
    "\n",
    "        for i in range(self.n):\n",
    "            if self.w[i] > 0:\n",
    "                dw[i] = (-(2*(self.X[:,i]).dot(self.Y - Y_pred)) + self.lambda_parameter) / m\n",
    "            else:\n",
    "                dw[i] = (-(2*(self.X[:,i]).dot(self.Y - Y_pred)) - self.lambda_parameter) / m\n",
    "\n",
    "        db = -2 * np.sum(self.Y - Y_prediction) / self.m\n",
    "\n",
    "\n",
    "        self.w = self.w - self.learning_rate*dw\n",
    "        self.b = self.b - self.learning_rate*db\n",
    "        \n",
    "    def predict(self):\n",
    "\n",
    "        return X.dot(self.w) + self.b"
   ]
  },
  {
   "cell_type": "code",
   "execution_count": null,
   "id": "f3707c40-d556-4ac3-8fd6-6baeac591deb",
   "metadata": {},
   "outputs": [],
   "source": []
  }
 ],
 "metadata": {
  "kernelspec": {
   "display_name": "Python 3 (ipykernel)",
   "language": "python",
   "name": "python3"
  },
  "language_info": {
   "codemirror_mode": {
    "name": "ipython",
    "version": 3
   },
   "file_extension": ".py",
   "mimetype": "text/x-python",
   "name": "python",
   "nbconvert_exporter": "python",
   "pygments_lexer": "ipython3",
   "version": "3.11.7"
  }
 },
 "nbformat": 4,
 "nbformat_minor": 5
}
