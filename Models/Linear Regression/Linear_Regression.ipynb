{
 "cells": [
  {
   "cell_type": "code",
   "execution_count": 3,
   "id": "dc7ad386-0b07-4056-b9cd-e44a6b44d5a8",
   "metadata": {},
   "outputs": [],
   "source": [
    "# Linear Regression\n",
    "\n",
    "# Y = wX + b\n",
    "# Y - Dependent variable\n",
    "# X - Independent Variable\n",
    "# w - weight\n",
    "# b - bias\n",
    "\n",
    "# Gradient Descent:\n",
    "# Gradient Descent ia an optimization algorithm used for minimizing the loss function in various machine learning algorithm.\n",
    "# It is used for updating the parameters of the learning model.\n",
    "\n",
    "# w = w-a*dw\n",
    "# b = b-a*db\n",
    "\n",
    "# Learning Rate:\n",
    "# Learning rate is a tuning parameter in an optimization algorithm that determines the step size at each iteration while moving toward a minimum of a loss function"
   ]
  },
  {
   "cell_type": "code",
   "execution_count": 135,
   "id": "6e1e569b-089c-4940-952d-3da8f6bb7411",
   "metadata": {},
   "outputs": [],
   "source": [
    "import numpy as np    #importing numpy library\n",
    "import pandas as pd\n",
    "\n",
    "#Linear Regression\n",
    "class Linear_Regression():\n",
    "    def __init__(self,learning_rate, no_of_iterations):            #initialization function\n",
    "        \n",
    "        self.learning_rate = learning_rate\n",
    "        self.no_of_iterations = no_of_iterations\n",
    "        \n",
    "    def fit(self, X, Y):                 #fit function to train the data , x-experience, y - salary\n",
    "        #no.of training examples and number of features\n",
    "        self.m , self.n  = X.shape     #no.of rows and no.of columns\n",
    "\n",
    "        self.w = np.zeros(self.n)\n",
    "        self.b = 0\n",
    "        self.X = X\n",
    "        self.Y = Y\n",
    "        \n",
    "        for i in range(self.no_of_iterations):\n",
    "          self.update_weight()\n",
    "\n",
    "    \n",
    "    def update_weight( self ):        #function to update the weight\n",
    "        Y_prediction = self.predict(self.X)\n",
    "\n",
    "        #Calculating the gradients\n",
    "        \n",
    "        dw = - ( 2 * (self.X.T ).dot( self.Y - Y_prediction)) / self.m\n",
    "        db = - 2 * np.sum( self.Y - Y_prediction ) / self.m\n",
    "\n",
    "        #updating the weights\n",
    "\n",
    "        self.w = self.w - self.learning_rate*dw\n",
    "        self.b = self.b - self.learning_rate*db\n",
    "            \n",
    "\n",
    "    def predict(self, X):              #used for predicting by giving a parameter\n",
    "\n",
    "        return X.dot(self.w) + self.b        #y = mx+c\n"
   ]
  },
  {
   "cell_type": "code",
   "execution_count": 136,
   "id": "514eb26f-a127-4ff3-bbd3-abfbf5b734ca",
   "metadata": {},
   "outputs": [],
   "source": [
    "#Using Linear Regression Model for prediction"
   ]
  },
  {
   "cell_type": "code",
   "execution_count": 137,
   "id": "8aa923c0-18a1-4ad3-ac60-40748f1d0f4e",
   "metadata": {},
   "outputs": [],
   "source": [
    "import pandas as pd\n",
    "import matplotlib.pyplot as plt\n",
    "from sklearn.model_selection import train_test_split"
   ]
  },
  {
   "cell_type": "code",
   "execution_count": 138,
   "id": "9c9651fc-f74b-4ca6-bb1f-d6d66bffe830",
   "metadata": {},
   "outputs": [],
   "source": [
    "#Data pre processing"
   ]
  },
  {
   "cell_type": "code",
   "execution_count": 139,
   "id": "96e13e7b-82c3-4b27-b347-2c6bc78aae2f",
   "metadata": {},
   "outputs": [
    {
     "data": {
      "text/html": [
       "<div>\n",
       "<style scoped>\n",
       "    .dataframe tbody tr th:only-of-type {\n",
       "        vertical-align: middle;\n",
       "    }\n",
       "\n",
       "    .dataframe tbody tr th {\n",
       "        vertical-align: top;\n",
       "    }\n",
       "\n",
       "    .dataframe thead th {\n",
       "        text-align: right;\n",
       "    }\n",
       "</style>\n",
       "<table border=\"1\" class=\"dataframe\">\n",
       "  <thead>\n",
       "    <tr style=\"text-align: right;\">\n",
       "      <th></th>\n",
       "      <th>YearsExperience</th>\n",
       "      <th>Salary</th>\n",
       "    </tr>\n",
       "  </thead>\n",
       "  <tbody>\n",
       "    <tr>\n",
       "      <th>25</th>\n",
       "      <td>9.0</td>\n",
       "      <td>105582</td>\n",
       "    </tr>\n",
       "    <tr>\n",
       "      <th>26</th>\n",
       "      <td>9.5</td>\n",
       "      <td>116969</td>\n",
       "    </tr>\n",
       "    <tr>\n",
       "      <th>27</th>\n",
       "      <td>9.6</td>\n",
       "      <td>112635</td>\n",
       "    </tr>\n",
       "    <tr>\n",
       "      <th>28</th>\n",
       "      <td>10.3</td>\n",
       "      <td>122391</td>\n",
       "    </tr>\n",
       "    <tr>\n",
       "      <th>29</th>\n",
       "      <td>10.5</td>\n",
       "      <td>121872</td>\n",
       "    </tr>\n",
       "  </tbody>\n",
       "</table>\n",
       "</div>"
      ],
      "text/plain": [
       "    YearsExperience  Salary\n",
       "25              9.0  105582\n",
       "26              9.5  116969\n",
       "27              9.6  112635\n",
       "28             10.3  122391\n",
       "29             10.5  121872"
      ]
     },
     "execution_count": 139,
     "metadata": {},
     "output_type": "execute_result"
    }
   ],
   "source": [
    "#loading csv file\n",
    "dataset = pd.read_csv(\"salary_data.csv\")\n",
    "dataset.tail()"
   ]
  },
  {
   "cell_type": "code",
   "execution_count": 140,
   "id": "1f769a1e-75f2-4c35-9745-637d908fff8a",
   "metadata": {},
   "outputs": [
    {
     "data": {
      "text/plain": [
       "YearsExperience    0\n",
       "Salary             0\n",
       "dtype: int64"
      ]
     },
     "execution_count": 140,
     "metadata": {},
     "output_type": "execute_result"
    }
   ],
   "source": [
    "#checking for missing values\n",
    "dataset.isnull().sum()"
   ]
  },
  {
   "cell_type": "code",
   "execution_count": 141,
   "id": "71dbfd56-ece5-458f-a590-9c88ba16cdb8",
   "metadata": {},
   "outputs": [
    {
     "data": {
      "text/plain": [
       "(30, 2)"
      ]
     },
     "execution_count": 141,
     "metadata": {},
     "output_type": "execute_result"
    }
   ],
   "source": [
    "dataset.shape"
   ]
  },
  {
   "cell_type": "code",
   "execution_count": 142,
   "id": "d8b9a611-36ae-4239-89a0-0eb4ee861f2a",
   "metadata": {},
   "outputs": [],
   "source": [
    "#splitting the feature and target\n",
    "X = dataset.iloc[:,:-1].values\n",
    "Y = dataset.iloc[:,-1].values\n",
    "\n"
   ]
  },
  {
   "cell_type": "code",
   "execution_count": 143,
   "id": "314dd851-122b-47c7-be90-87de75300fd0",
   "metadata": {},
   "outputs": [
    {
     "name": "stdout",
     "output_type": "stream",
     "text": [
      "[[ 1.1]\n",
      " [ 1.3]\n",
      " [ 1.5]\n",
      " [ 2. ]\n",
      " [ 2.2]\n",
      " [ 2.9]\n",
      " [ 3. ]\n",
      " [ 3.2]\n",
      " [ 3.2]\n",
      " [ 3.7]\n",
      " [ 3.9]\n",
      " [ 4. ]\n",
      " [ 4. ]\n",
      " [ 4.1]\n",
      " [ 4.5]\n",
      " [ 4.9]\n",
      " [ 5.1]\n",
      " [ 5.3]\n",
      " [ 5.9]\n",
      " [ 6. ]\n",
      " [ 6.8]\n",
      " [ 7.1]\n",
      " [ 7.9]\n",
      " [ 8.2]\n",
      " [ 8.7]\n",
      " [ 9. ]\n",
      " [ 9.5]\n",
      " [ 9.6]\n",
      " [10.3]\n",
      " [10.5]]\n"
     ]
    }
   ],
   "source": [
    "print(X)"
   ]
  },
  {
   "cell_type": "code",
   "execution_count": 144,
   "id": "c7266b07-ba22-4b6e-8b70-679a62a0e188",
   "metadata": {},
   "outputs": [
    {
     "name": "stdout",
     "output_type": "stream",
     "text": [
      "[ 39343  46205  37731  43525  39891  56642  60150  54445  64445  57189\n",
      "  63218  55794  56957  57081  61111  67938  66029  83088  81363  93940\n",
      "  91738  98273 101302 113812 109431 105582 116969 112635 122391 121872]\n"
     ]
    }
   ],
   "source": [
    "print(Y)"
   ]
  },
  {
   "cell_type": "code",
   "execution_count": 145,
   "id": "c1cc221c-47f0-48b7-9c4c-9fba2e431052",
   "metadata": {},
   "outputs": [],
   "source": [
    "#Splliting the training and test"
   ]
  },
  {
   "cell_type": "code",
   "execution_count": 146,
   "id": "78b770fb-a8d5-45d7-a0ae-26410e972665",
   "metadata": {},
   "outputs": [],
   "source": [
    "X_train, X_test , Y_train, Y_test = train_test_split(X,Y,test_size = 0.33, random_state = 2)"
   ]
  },
  {
   "cell_type": "code",
   "execution_count": 163,
   "id": "fdbf96ab-5e41-448a-84b9-8961a5ec7b5b",
   "metadata": {},
   "outputs": [],
   "source": [
    "#Training the model for Linear Regression\n",
    "\n",
    "model = Linear_Regression(learning_rate = 0.02, no_of_iterations = 100)\n",
    "model.fit(X_train, Y_train)"
   ]
  },
  {
   "cell_type": "code",
   "execution_count": 164,
   "id": "1ce8ea26-3f42-4d87-ab91-e6093f67aff3",
   "metadata": {},
   "outputs": [
    {
     "name": "stdout",
     "output_type": "stream",
     "text": [
      "weight =  10941.258155090314\n",
      "bias =  13499.045037502532\n"
     ]
    }
   ],
   "source": [
    "#printing the parameter values (weights & bias)\n",
    "\n",
    "print('weight = ', model.w[0])\n",
    "print('bias = ',model.b)"
   ]
  },
  {
   "cell_type": "code",
   "execution_count": 165,
   "id": "f8fd2e07-6c1b-4ceb-bc08-0ff17738fad6",
   "metadata": {},
   "outputs": [],
   "source": [
    "# y = 9514(x).23697\n",
    "#salary = 9514(experience).23697"
   ]
  },
  {
   "cell_type": "code",
   "execution_count": 166,
   "id": "d868579b-1787-47a2-9863-bb8b8c119b70",
   "metadata": {},
   "outputs": [],
   "source": [
    "#Predict the salary value for test data\n",
    "\n",
    "test_data_prediction = model.predict(X_test)"
   ]
  },
  {
   "cell_type": "code",
   "execution_count": 167,
   "id": "3d1b4a0f-b0c3-4e87-bfa6-9f0ffdd4e9f1",
   "metadata": {},
   "outputs": [
    {
     "name": "stdout",
     "output_type": "stream",
     "text": [
      "[ 27722.68063912  25534.4290081   62734.70673541  53981.70021134\n",
      "  91181.97793864  79146.59396804 103217.36190924  46322.81950277\n",
      "  35381.56134768  87899.60049212]\n"
     ]
    }
   ],
   "source": [
    "print(test_data_prediction)"
   ]
  },
  {
   "cell_type": "code",
   "execution_count": 170,
   "id": "40bff1fa-031c-4962-9c89-0d8aa4f1590c",
   "metadata": {},
   "outputs": [
    {
     "data": {
      "text/plain": [
       "[<matplotlib.lines.Line2D at 0x1e91428bcd0>]"
      ]
     },
     "execution_count": 170,
     "metadata": {},
     "output_type": "execute_result"
    },
    {
     "data": {
      "image/png": "[encoded data removed]",
      "text/plain": [
       "<Figure size 640x480 with 1 Axes>"
      ]
     },
     "metadata": {},
     "output_type": "display_data"
    }
   ],
   "source": [
    "#To Visualizing the predicted values & actual values\n",
    "\n",
    "plt.scatter(X_test,Y_test,color = 'r')\n",
    "plt.plot(X_test, test_data_prediction, color = 'b')"
   ]
  },
  {
   "cell_type": "code",
   "execution_count": 171,
   "id": "9f981b0f-5727-4a02-9421-c2f6c8bfbc33",
   "metadata": {},
   "outputs": [
    {
     "data": {
      "text/plain": [
       "[<matplotlib.lines.Line2D at 0x1e9143ae090>]"
      ]
     },
     "execution_count": 171,
     "metadata": {},
     "output_type": "execute_result"
    },
    {
     "data": {
      "image/png": "[encoded data removed]",
      "text/plain": [
       "<Figure size 640x480 with 1 Axes>"
      ]
     },
     "metadata": {},
     "output_type": "display_data"
    }
   ],
   "source": [
    "plt.xlabel(\"Work Experience\")\n",
    "plt.ylabel(\"Salary\")\n",
    "plt.title(\"Salary Vs Experience\")\n",
    "plt.scatter(X_test,Y_test,color = 'r')\n",
    "plt.plot(X_test, test_data_prediction, color = 'b')"
   ]
  },
  {
   "cell_type": "code",
   "execution_count": null,
   "id": "79b28adf-a16e-4761-b143-289833d0da92",
   "metadata": {},
   "outputs": [],
   "source": []
  },
  {
   "cell_type": "code",
   "execution_count": null,
   "id": "4e8219cd-8c3b-4ce2-8075-1576fa277975",
   "metadata": {},
   "outputs": [],
   "source": []
  }
 ],
 "metadata": {
  "kernelspec": {
   "display_name": "Python 3 (ipykernel)",
   "language": "python",
   "name": "python3"
  },
  "language_info": {
   "codemirror_mode": {
    "name": "ipython",
    "version": 3
   },
   "file_extension": ".py",
   "mimetype": "text/x-python",
   "name": "python",
   "nbconvert_exporter": "python",
   "pygments_lexer": "ipython3",
   "version": "3.11.7"
  }
 },
 "nbformat": 4,
 "nbformat_minor": 5
}
